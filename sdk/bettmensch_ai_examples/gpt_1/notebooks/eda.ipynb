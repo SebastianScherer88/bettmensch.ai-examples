{
 "cells": [
  {
   "cell_type": "markdown",
   "metadata": {},
   "source": [
    "# EDA on data set"
   ]
  },
  {
   "cell_type": "code",
   "execution_count": 1,
   "metadata": {},
   "outputs": [
    {
     "name": "stderr",
     "output_type": "stream",
     "text": [
      "c:\\Users\\scher\\Repositories\\bettmensch.ai-examples\\.venv\\Lib\\site-packages\\tqdm\\auto.py:21: TqdmWarning: IProgress not found. Please update jupyter and ipywidgets. See https://ipywidgets.readthedocs.io/en/stable/user_install.html\n",
      "  from .autonotebook import tqdm as notebook_tqdm\n"
     ]
    }
   ],
   "source": [
    "from datasets import Dataset\n",
    "\n",
    "data = Dataset.load_from_disk(\"source_data_train\")"
   ]
  },
  {
   "cell_type": "code",
   "execution_count": 2,
   "metadata": {},
   "outputs": [
    {
     "data": {
      "text/plain": [
       "74004228"
      ]
     },
     "execution_count": 2,
     "metadata": {},
     "output_type": "execute_result"
    }
   ],
   "source": [
    "length_text = 5\n",
    "\n",
    "data_list = [data[i]['text'][:length_text] for i in range(len(data))]\n",
    "len(data_list)"
   ]
  },
  {
   "cell_type": "code",
   "execution_count": 5,
   "metadata": {},
   "outputs": [],
   "source": [
    "del data"
   ]
  },
  {
   "cell_type": "code",
   "execution_count": 6,
   "metadata": {},
   "outputs": [],
   "source": [
    "length_paragraph = 5\n",
    "paragraph_list = []\n",
    "\n",
    "for i in range(len(data_list)-length_paragraph):\n",
    "    paragraph_list.append('<S>'.join(data_list[i:i+length_paragraph]))"
   ]
  },
  {
   "cell_type": "code",
   "execution_count": 8,
   "metadata": {},
   "outputs": [
    {
     "data": {
      "text/plain": [
       "(74004223,\n",
       " [\"usual<S>but j<S>that <S>he 'd<S>she l\",\n",
       "  \"but j<S>that <S>he 'd<S>she l<S>`` ar\",\n",
       "  \"that <S>he 'd<S>she l<S>`` ar<S>she s\",\n",
       "  \"he 'd<S>she l<S>`` ar<S>she s<S>mason\",\n",
       "  'she l<S>`` ar<S>she s<S>mason<S>inste',\n",
       "  '`` ar<S>she s<S>mason<S>inste<S>since',\n",
       "  'she s<S>mason<S>inste<S>since<S>each ',\n",
       "  'mason<S>inste<S>since<S>each <S>his p',\n",
       "  'inste<S>since<S>each <S>his p<S>it wa',\n",
       "  'since<S>each <S>his p<S>it wa<S>where'])"
      ]
     },
     "execution_count": 8,
     "metadata": {},
     "output_type": "execute_result"
    }
   ],
   "source": [
    "len(paragraph_list), paragraph_list[:10]"
   ]
  },
  {
   "cell_type": "code",
   "execution_count": 9,
   "metadata": {},
   "outputs": [],
   "source": [
    "import pandas as pd\n",
    "\n",
    "paragraph_data_df = pd.DataFrame(data=paragraph_list,columns=['paragraph'])\n",
    "paragraph_counts = paragraph_data_df.value_counts()"
   ]
  },
  {
   "cell_type": "code",
   "execution_count": 11,
   "metadata": {},
   "outputs": [
    {
     "data": {
      "text/plain": [
       "paragraph                            \n",
       "they <S>they <S>they <S>they <S>they     476\n",
       "i wan<S>i wan<S>i wan<S>i wan<S>i wan    313\n",
       ".<S>.<S>.<S>.<S>.                        275\n",
       "chapt<S>chapt<S>chapt<S>chapt<S>chapt    245\n",
       "smash<S>this <S>if yo<S>if yo<S>thank    201\n",
       "                                        ... \n",
       "you '<S>you '<S>you '<S>you '<S>you '     11\n",
       "the p<S>they <S>they <S>they <S>they      11\n",
       "http <S>this <S>if yo<S>if yo<S>thank     11\n",
       "if yo<S>thank<S>all r<S>no pa<S>this      11\n",
       "`` i <S>`` i <S>`` i <S>`` bu<S>`` yo     11\n",
       "Name: count, Length: 500, dtype: int64"
      ]
     },
     "execution_count": 11,
     "metadata": {},
     "output_type": "execute_result"
    }
   ],
   "source": [
    "paragraph_counts[:500]"
   ]
  },
  {
   "cell_type": "code",
   "execution_count": 7,
   "metadata": {},
   "outputs": [
    {
     "data": {
      "text/plain": [
       "59.0909649"
      ]
     },
     "execution_count": 7,
     "metadata": {},
     "output_type": "execute_result"
    }
   ],
   "source": [
    "average_length = sum([len(text) for text in data_list]) / len(data_list)\n",
    "average_length"
   ]
  },
  {
   "cell_type": "code",
   "execution_count": 44,
   "metadata": {},
   "outputs": [],
   "source": [
    "import random\n",
    "test_list = [\"this a test string with about 66 chars including the number \"+str(random.choice(range(10000000))) for j in range(10000000)]\n",
    "#test_list"
   ]
  },
  {
   "cell_type": "code",
   "execution_count": 45,
   "metadata": {},
   "outputs": [
    {
     "data": {
      "text/plain": [
       "66.888764"
      ]
     },
     "execution_count": 45,
     "metadata": {},
     "output_type": "execute_result"
    }
   ],
   "source": [
    "average_length = sum([len(text) for text in test_list]) / len(test_list)\n",
    "average_length"
   ]
  },
  {
   "cell_type": "code",
   "execution_count": 46,
   "metadata": {},
   "outputs": [
    {
     "data": {
      "text/plain": [
       "0.082976333796978"
      ]
     },
     "execution_count": 46,
     "metadata": {},
     "output_type": "execute_result"
    }
   ],
   "source": [
    "import sys\n",
    "sys.getsizeof(test_list) / 1024**3"
   ]
  },
  {
   "cell_type": "code",
   "execution_count": null,
   "metadata": {},
   "outputs": [],
   "source": []
  }
 ],
 "metadata": {
  "kernelspec": {
   "display_name": ".venv",
   "language": "python",
   "name": "python3"
  },
  "language_info": {
   "codemirror_mode": {
    "name": "ipython",
    "version": 3
   },
   "file_extension": ".py",
   "mimetype": "text/x-python",
   "name": "python",
   "nbconvert_exporter": "python",
   "pygments_lexer": "ipython3",
   "version": "3.11.0"
  }
 },
 "nbformat": 4,
 "nbformat_minor": 2
}
