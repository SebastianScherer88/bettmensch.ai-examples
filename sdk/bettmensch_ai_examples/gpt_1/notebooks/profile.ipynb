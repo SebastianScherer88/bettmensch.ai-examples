{
 "cells": [
  {
   "cell_type": "code",
   "execution_count": null,
   "metadata": {},
   "outputs": [],
   "source": [
    "import torch\n",
    "from torch.profiler import profile, record_function, ProfilerActivity\n",
    "from src.model import GPT1CoreFast"
   ]
  },
  {
   "cell_type": "code",
   "execution_count": 2,
   "metadata": {},
   "outputs": [],
   "source": [
    "def time_model(n, batch_size=5,use_gpu=False,sort_by=\"self_cpu_time_total\"):\n",
    "\n",
    "    model = GPT1CoreFast(30000)\n",
    "        \n",
    "    inputs = torch.tensor([[i for i in range(512)] for _ in range(batch_size)],dtype=torch.int)\n",
    "    mask = torch.ones((batch_size,512),dtype=torch.bool)\n",
    "\n",
    "    if use_gpu:\n",
    "        gpu_device = torch.device(\"cuda\")\n",
    "        inputs = inputs.to(gpu_device)\n",
    "        mask = mask.to(gpu_device)\n",
    "        model.to(gpu_device)\n",
    "\n",
    "    with profile(activities=[ProfilerActivity.CPU, ProfilerActivity.CUDA], record_shapes=True) as prof:\n",
    "        with record_function(\"model_inference\"):\n",
    "            for k in range(n):\n",
    "                model(inputs, mask)\n",
    "\n",
    "    print(prof.key_averages().table(sort_by=sort_by, row_limit=550))\n",
    "\n",
    "    return prof"
   ]
  },
  {
   "cell_type": "code",
   "execution_count": 3,
   "metadata": {},
   "outputs": [
    {
     "name": "stdout",
     "output_type": "stream",
     "text": [
      "---------------------------  ------------  ------------  ------------  ------------  ------------  ------------  ------------  ------------  ------------  ------------  \n",
      "                       Name    Self CPU %      Self CPU   CPU total %     CPU total  CPU time avg     Self CUDA   Self CUDA %    CUDA total  CUDA time avg    # of Calls  \n",
      "---------------------------  ------------  ------------  ------------  ------------  ------------  ------------  ------------  ------------  ------------  ------------  \n",
      "                aten::addmm        88.90%      663.690s        88.92%      663.813s        9.220s      663.718s        88.90%      663.830s        9.220s            72  \n",
      "                  aten::bmm        10.31%       76.959s        10.34%       77.170s     267.952ms       76.917s        10.30%       77.098s     267.702ms           288  \n",
      "             aten::_softmax         0.41%        3.058s         0.41%        3.058s      21.238ms        3.103s         0.42%        3.103s      21.548ms           144  \n",
      "                 aten::gelu         0.06%     466.220ms         0.06%     466.220ms      38.852ms     464.080ms         0.06%     464.080ms      38.673ms            12  \n",
      "           aten::bernoulli_         0.04%     324.278ms         0.04%     325.622ms       6.645ms     328.795ms         0.04%     329.248ms       6.719ms            49  \n",
      "                aten::copy_         0.04%     267.954ms         0.04%     267.954ms     474.255us     242.873ms         0.03%     242.873ms     429.864us           565  \n",
      "                  aten::div         0.03%     260.340ms         0.04%     264.758ms       1.839ms     244.190ms         0.03%     248.725ms       1.727ms           144  \n",
      "            model_inference         0.03%     199.493ms       100.00%      746.556s      746.556s     159.448ms         0.02%      746.576s      746.576s             1  \n",
      "               aten::select         0.03%     197.347ms         0.03%     211.832ms      15.321us      91.190ms         0.01%     139.327ms      10.077us         13826  \n",
      "                   aten::eq         0.03%     189.842ms         0.03%     189.842ms       1.318ms     230.774ms         0.03%     230.774ms       1.603ms           144  \n",
      "                  aten::mul         0.02%     159.755ms         0.02%     159.755ms       3.260ms     161.736ms         0.02%     161.736ms       3.301ms            49  \n",
      "                  aten::add         0.02%     159.519ms         0.02%     159.519ms       6.381ms     162.378ms         0.02%     162.378ms       6.495ms            25  \n",
      "    aten::native_layer_norm         0.02%     159.423ms         0.02%     159.888ms       6.662ms     162.138ms         0.02%     162.609ms       6.775ms            24  \n",
      "         aten::masked_fill_         0.02%     117.984ms         0.02%     117.984ms     819.333us     104.832ms         0.01%     104.832ms     728.000us           144  \n",
      "                 aten::div_         0.02%     112.892ms         0.02%     116.534ms       2.378ms     122.535ms         0.02%     125.539ms       2.562ms            49  \n",
      "               aten::matmul         0.01%      38.548ms        10.35%       77.238s     268.189ms      13.924ms         0.00%       77.185s     268.005ms           288  \n",
      "                  aten::cat         0.00%      26.373ms         0.00%      26.680ms       2.223ms      27.290ms         0.00%      27.477ms       2.290ms            12  \n",
      "                aten::slice         0.00%      17.410ms         0.00%      17.882ms      13.671us      12.541ms         0.00%      17.735ms      13.559us          1308  \n",
      "           aten::as_strided         0.00%      15.894ms         0.00%      15.894ms       0.992us      68.204ms         0.01%      68.204ms       4.257us         16022  \n",
      "               aten::expand         0.00%      13.168ms         0.00%      13.880ms      21.420us      55.602ms         0.01%      59.358ms      91.602us           648  \n",
      "          aten::bitwise_and         0.00%      12.632ms         0.00%      12.632ms       1.053ms      14.760ms         0.00%      14.760ms       1.230ms            12  \n",
      "              aten::reshape         0.00%      11.458ms         0.00%      15.268ms      23.525us      11.821ms         0.00%      16.184ms      24.937us           649  \n",
      "               aten::linear         0.00%       9.683ms        88.92%      663.829s        9.220s       2.344ms         0.00%      663.854s        9.220s            72  \n",
      "              aten::dropout         0.00%       9.270ms         0.08%     614.073ms      12.532ms       2.296ms         0.00%     619.983ms      12.653ms            49  \n",
      "          aten::masked_fill         0.00%       8.879ms         0.04%     281.359ms       1.954ms      14.168ms         0.00%     253.394ms       1.760ms           144  \n",
      "             aten::_to_copy         0.00%       8.837ms         0.00%      13.279ms      38.049us       5.092ms         0.00%       9.848ms      28.218us           349  \n",
      "              aten::softmax         0.00%       8.069ms         0.41%        3.066s      21.294ms     915.000us         0.00%        3.104s      21.554ms           144  \n",
      "                aten::empty         0.00%       7.797ms         0.00%       7.797ms      16.554us       3.641ms         0.00%       3.641ms       7.730us           471  \n",
      "                aten::clone         0.00%       6.210ms         0.02%     154.496ms       1.073ms       1.805ms         0.00%     134.394ms     933.292us           144  \n",
      "           aten::layer_norm         0.00%       5.037ms         0.02%     164.925ms       6.872ms       4.817ms         0.00%     167.426ms       6.976ms            24  \n",
      "                   aten::to         0.00%       4.347ms         0.00%      17.626ms      35.753us      42.832ms         0.01%      52.680ms     106.856us           493  \n",
      "                 aten::sqrt         0.00%       3.922ms         0.00%      11.029ms      76.590us       1.757ms         0.00%      44.176ms     306.778us           144  \n",
      "            aten::transpose         0.00%       3.815ms         0.00%       3.985ms      18.449us       2.827ms         0.00%      13.641ms      63.153us           216  \n",
      "         aten::_unsafe_view         0.00%       3.554ms         0.00%       3.554ms      12.340us     852.000us         0.00%     852.000us       2.958us           288  \n",
      "                 aten::view         0.00%       3.359ms         0.00%       3.359ms       9.938us       1.523ms         0.00%       1.523ms       4.506us           338  \n",
      "           aten::empty_like         0.00%       3.065ms         0.00%       8.278ms      42.891us       1.725ms         0.00%       3.230ms      16.736us           193  \n",
      "       aten::_reshape_alias         0.00%       1.866ms         0.00%       1.866ms       4.319us       3.223ms         0.00%       3.223ms       7.461us           432  \n",
      "                 aten::tril         0.00%       1.640ms         0.00%       1.640ms     136.667us     458.000us         0.00%     458.000us      38.167us            12  \n",
      "              aten::detach_         0.00%       1.626ms         0.00%       1.672ms      11.611us       1.812ms         0.00%      10.503ms      72.938us           144  \n",
      "         aten::index_select         0.00%       1.402ms         0.00%       1.642ms       1.642ms       1.406ms         0.00%       1.666ms       1.666ms             1  \n",
      "        aten::empty_strided         0.00%       1.351ms         0.00%       1.351ms       3.871us       1.698ms         0.00%       1.698ms       4.865us           349  \n",
      "                    aten::t         0.00%       1.342ms         0.00%       2.525ms      35.069us      10.140ms         0.00%      20.072ms     278.778us            72  \n",
      "          aten::concatenate         0.00%     682.000us         0.00%      27.362ms       2.280ms      82.000us         0.00%      27.559ms       2.297ms            12  \n",
      "            aten::unsqueeze         0.00%     557.000us         0.00%     612.000us      25.500us     344.000us         0.00%     647.000us      26.958us            24  \n",
      "                aten::fill_         0.00%     495.000us         0.00%     495.000us      41.250us     134.000us         0.00%     134.000us      11.167us            12  \n",
      "              aten::__and__         0.00%     387.000us         0.00%      13.019ms       1.085ms     118.000us         0.00%      14.878ms       1.240ms            12  \n",
      "            aten::embedding         0.00%     361.000us         0.00%       2.039ms       2.039ms     338.000us         0.00%       2.047ms       2.047ms             1  \n",
      "                 aten::ones         0.00%     321.000us         0.00%     876.000us      73.000us     133.000us         0.00%     330.000us      27.500us            12  \n",
      "         aten::resolve_conj         0.00%     178.000us         0.00%     178.000us       0.015us      42.259ms         0.01%      42.259ms       3.453us         12240  \n",
      "               aten::narrow         0.00%     151.000us         0.00%     307.000us      25.583us      82.000us         0.00%     187.000us      15.583us            12  \n",
      "                    detach_         0.00%      46.000us         0.00%      46.000us       0.319us       8.691ms         0.00%       8.691ms      60.354us           144  \n",
      "           aten::lift_fresh         0.00%       1.000us         0.00%       1.000us       0.007us     959.000us         0.00%     959.000us       6.660us           144  \n",
      "---------------------------  ------------  ------------  ------------  ------------  ------------  ------------  ------------  ------------  ------------  ------------  \n",
      "Self CPU time total: 746.556s\n",
      "Self CUDA time total: 746.576s\n",
      "\n"
     ]
    }
   ],
   "source": [
    "prof = time_model(1,16,False,\"self_cpu_time_total\")"
   ]
  },
  {
   "cell_type": "code",
   "execution_count": 7,
   "metadata": {},
   "outputs": [
    {
     "name": "stdout",
     "output_type": "stream",
     "text": [
      "---------------------------  ------------  ------------  ------------  ------------  ------------  ------------  ------------  ------------  ------------  ------------  \n",
      "                       Name    Self CPU %      Self CPU   CPU total %     CPU total  CPU time avg     Self CUDA   Self CUDA %    CUDA total  CUDA time avg    # of Calls  \n",
      "---------------------------  ------------  ------------  ------------  ------------  ------------  ------------  ------------  ------------  ------------  ------------  \n",
      "                aten::addmm         0.79%       4.609ms         0.98%       5.730ms      79.583us     198.303ms        33.52%     199.438ms       2.770ms            72  \n",
      "                  aten::bmm         1.62%       9.447ms         1.62%       9.447ms      32.802us      45.560ms         7.70%      45.560ms     158.194us           288  \n",
      "                  aten::div         0.53%       3.079ms         0.53%       3.079ms      21.382us      43.190ms         7.30%      43.190ms     299.931us           144  \n",
      "         aten::masked_fill_         0.24%       1.402ms         0.24%       1.402ms       9.736us      43.179ms         7.30%      43.179ms     299.854us           144  \n",
      "             aten::_softmax         0.41%       2.367ms         0.41%       2.367ms      16.438us      37.461ms         6.33%      37.461ms     260.146us           144  \n",
      "                aten::copy_        51.22%     298.951ms        51.22%     298.951ms     958.176us      36.450ms         6.16%      36.450ms     116.827us           312  \n",
      "       aten::native_dropout         0.37%       2.183ms         0.66%       3.867ms      78.918us      27.993ms         4.73%      31.309ms     638.959us            49  \n",
      "                 aten::gelu         0.04%     206.000us         0.04%     206.000us      17.167us      18.832ms         3.18%      18.832ms       1.569ms            12  \n",
      "                aten::slice         3.78%      22.048ms         3.79%      22.102ms      17.054us      18.072ms         3.06%      21.135ms      16.308us          1296  \n",
      "               aten::matmul         7.18%      41.896ms        15.19%      88.654ms     307.826us      15.928ms         2.69%      75.408ms     261.833us           288  \n",
      "                   aten::eq         0.42%       2.478ms         0.42%       2.478ms      17.208us      15.671ms         2.65%      15.671ms     108.826us           144  \n",
      "                  aten::add         0.08%     474.000us         0.08%     474.000us      18.960us      14.451ms         2.44%      14.451ms     578.040us            25  \n",
      "            model_inference        12.93%      75.488ms       100.00%     583.651ms     583.651ms      13.171ms         2.23%     591.543ms     591.543ms             1  \n",
      "    aten::native_layer_norm         0.44%       2.548ms         0.46%       2.695ms     112.292us       7.092ms         1.20%       7.263ms     302.625us            24  \n",
      "             aten::_to_copy         3.89%      22.698ms        54.80%     319.831ms       1.904ms       6.983ms         1.18%       8.762ms      52.155us           168  \n",
      "           aten::as_strided         0.05%     311.000us         0.05%     311.000us       0.143us       6.726ms         1.14%       6.726ms       3.085us          2180  \n",
      "              aten::reshape         7.16%      41.791ms         7.51%      43.806ms      67.498us       5.154ms         0.87%       7.874ms      12.133us           649  \n",
      "            aten::transpose         0.65%       3.768ms         0.65%       3.822ms      17.694us       5.112ms         0.86%       6.075ms      28.125us           216  \n",
      "               aten::expand         1.90%      11.094ms         1.93%      11.276ms      17.401us       4.683ms         0.79%       7.353ms      11.347us           648  \n",
      "                  aten::cat         0.08%     490.000us         0.08%     490.000us      40.833us       3.837ms         0.65%       3.837ms     319.750us            12  \n",
      "           aten::empty_like         0.58%       3.409ms         0.68%       3.986ms      16.471us       3.544ms         0.60%       3.970ms      16.405us           242  \n",
      "                   aten::to         0.50%       2.947ms        55.30%     322.778ms     999.313us       2.733ms         0.46%      11.495ms      35.588us           323  \n",
      "         aten::index_select         0.01%      47.000us         0.01%      56.000us      56.000us       2.272ms         0.38%       2.276ms       2.276ms             1  \n",
      "       aten::_reshape_alias         0.20%       1.175ms         0.20%       1.175ms       2.739us       2.178ms         0.37%       2.178ms       5.077us           429  \n",
      "          aten::bitwise_and         0.10%     585.000us         0.10%     585.000us      48.750us       2.159ms         0.36%       2.159ms     179.917us            12  \n",
      "                aten::empty         0.13%     730.000us         0.13%     730.000us       1.957us       1.305ms         0.22%       1.305ms       3.499us           373  \n",
      "              aten::detach_         0.34%       1.971ms         0.34%       1.991ms      13.826us       1.105ms         0.19%       1.452ms      10.083us           144  \n",
      "                    aten::t         0.20%       1.142ms         0.39%       2.290ms      31.806us     945.000us         0.16%       3.693ms      51.292us            72  \n",
      "           aten::lift_fresh         0.00%       1.000us         0.00%       1.000us       0.007us     826.000us         0.14%     826.000us       5.776us           143  \n",
      "               aten::linear         0.60%       3.502ms         4.98%      29.095ms     404.097us     819.000us         0.14%     204.676ms       2.843ms            72  \n",
      "          aten::masked_fill         0.80%       4.663ms         2.41%      14.093ms      97.868us     751.000us         0.13%      80.197ms     556.924us           144  \n",
      "                 aten::view         0.18%       1.035ms         0.18%       1.035ms       3.062us     713.000us         0.12%     713.000us       2.109us           338  \n",
      "                aten::clone         0.62%       3.623ms         1.38%       8.028ms      55.750us     681.000us         0.12%      36.267ms     251.854us           144  \n",
      "                 aten::ones         0.05%     281.000us         0.22%       1.260ms     105.000us     596.000us         0.10%     630.000us      52.500us            12  \n",
      "            aten::unsqueeze         0.06%     342.000us         0.06%     363.000us      15.125us     508.000us         0.09%     538.000us      22.417us            24  \n",
      "        aten::empty_strided         0.09%     514.000us         0.09%     514.000us       1.954us     474.000us         0.08%     474.000us       1.802us           263  \n",
      "         aten::_unsafe_view         0.13%     749.000us         0.13%     749.000us       2.601us     459.000us         0.08%     459.000us       1.594us           288  \n",
      "                 aten::sqrt         0.55%       3.226ms         4.83%      28.168ms     195.611us     450.000us         0.08%       7.919ms      54.993us           144  \n",
      "              aten::softmax         0.37%       2.174ms         0.78%       4.541ms      31.535us     428.000us         0.07%      37.889ms     263.118us           144  \n",
      "                    detach_         0.00%      20.000us         0.00%      20.000us       0.139us     347.000us         0.06%     347.000us       2.410us           144  \n",
      "              aten::dropout         0.11%     620.000us         0.77%       4.487ms      91.571us     144.000us         0.02%      31.453ms     641.898us            49  \n",
      "              aten::__and__         0.03%     166.000us         0.13%     751.000us      62.583us     110.000us         0.02%       2.269ms     189.083us            12  \n",
      "           aten::layer_norm         0.07%     429.000us         0.54%       3.124ms     130.167us      67.000us         0.01%       7.330ms     305.417us            24  \n",
      "          aten::concatenate         0.06%     351.000us         0.14%     841.000us      70.083us      33.000us         0.01%       3.870ms     322.500us            12  \n",
      "                 aten::tril         0.28%       1.612ms         0.28%       1.612ms     134.333us      21.000us         0.00%      21.000us       1.750us            12  \n",
      "                aten::fill_         0.16%     950.000us         0.16%     950.000us      79.167us      17.000us         0.00%      17.000us       1.417us            12  \n",
      "            aten::embedding         0.01%      42.000us         0.02%     112.000us     112.000us       8.000us         0.00%       2.293ms       2.293ms             1  \n",
      "              aten::resize_         0.00%       5.000us         0.00%       5.000us       5.000us       2.000us         0.00%       2.000us       2.000us             1  \n",
      "           aten::as_strided         0.00%       0.000us         0.00%       0.000us       0.000us       0.000us         0.00%       0.000us       0.000us             4  \n",
      "       aten::_reshape_alias         0.00%       6.000us         0.00%       6.000us       2.000us       0.000us         0.00%       0.000us       0.000us             3  \n",
      "        aten::empty_strided         0.00%       6.000us         0.00%       6.000us       2.000us       0.000us         0.00%       0.000us       0.000us             3  \n",
      "           aten::lift_fresh         0.00%       0.000us         0.00%       0.000us       0.000us       0.000us         0.00%       0.000us       0.000us             1  \n",
      "                   aten::to         0.00%       0.000us         0.00%       0.000us       0.000us       0.000us         0.00%       0.000us       0.000us             1  \n",
      "---------------------------  ------------  ------------  ------------  ------------  ------------  ------------  ------------  ------------  ------------  ------------  \n",
      "Self CPU time total: 583.651ms\n",
      "Self CUDA time total: 591.543ms\n",
      "\n"
     ]
    },
    {
     "data": {
      "text/plain": [
       "<torch.profiler.profiler.profile at 0x1ef24133c90>"
      ]
     },
     "execution_count": 7,
     "metadata": {},
     "output_type": "execute_result"
    }
   ],
   "source": [
    "time_model(1,16,True,\"self_cuda_time_total\")"
   ]
  },
  {
   "cell_type": "code",
   "execution_count": null,
   "metadata": {},
   "outputs": [],
   "source": []
  }
 ],
 "metadata": {
  "kernelspec": {
   "display_name": ".venv",
   "language": "python",
   "name": "python3"
  },
  "language_info": {
   "codemirror_mode": {
    "name": "ipython",
    "version": 3
   },
   "file_extension": ".py",
   "mimetype": "text/x-python",
   "name": "python",
   "nbconvert_exporter": "python",
   "pygments_lexer": "ipython3",
   "version": "3.11.0"
  }
 },
 "nbformat": 4,
 "nbformat_minor": 2
}
