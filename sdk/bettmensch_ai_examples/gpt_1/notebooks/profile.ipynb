{
 "cells": [
  {
   "cell_type": "code",
   "execution_count": 21,
   "metadata": {},
   "outputs": [],
   "source": [
    "import torch\n",
    "from torch.profiler import profile, record_function, ProfilerActivity\n",
    "from bettmensch_ai_examples.gpt_1.src.model import GPT1CoreFast, GPT1CoreKarpathy, DecoderLayerFast, DecoderLayerKarpathy, GPT1Pretrain"
   ]
  },
  {
   "cell_type": "code",
   "execution_count": 2,
   "metadata": {},
   "outputs": [],
   "source": [
    "def time_model(n, batch_size=5,layer_only: bool = True,karpathy: bool = False, use_gpu=False,sort_by=\"self_cpu_time_total\"):\n",
    "\n",
    "    mask = torch.ones((batch_size,512),dtype=torch.bool)\n",
    "\n",
    "    if layer_only:\n",
    "        inputs = torch.rand(batch_size, 512, 768,dtype=torch.half)\n",
    "        if not karpathy:\n",
    "            model = DecoderLayerFast()\n",
    "        else:\n",
    "            model = DecoderLayerKarpathy()\n",
    "        model.set_nest_level()\n",
    "    else:\n",
    "        inputs = torch.randint(low=0,high=30000,size=(batch_size, 512))\n",
    "        if not karpathy:\n",
    "            model = GPT1CoreFast(30000)\n",
    "        else:\n",
    "            model = GPT1CoreKarpathy(30000)\n",
    "\n",
    "    if use_gpu:\n",
    "        gpu_device = torch.device(\"cuda\")\n",
    "        inputs = inputs.to(gpu_device)\n",
    "        mask = mask.to(gpu_device)\n",
    "        model.to(gpu_device)\n",
    "\n",
    "    with profile(activities=[ProfilerActivity.CPU, ProfilerActivity.CUDA], record_shapes=True) as prof:\n",
    "        with record_function(\"model_inference\"):\n",
    "            for k in range(n):\n",
    "                model(inputs, mask)\n",
    "\n",
    "    print(prof.key_averages().table(sort_by=sort_by, row_limit=550))\n",
    "\n",
    "    return prof"
   ]
  },
  {
   "cell_type": "markdown",
   "metadata": {},
   "source": [
    "## Layer level comparison"
   ]
  },
  {
   "cell_type": "code",
   "execution_count": 3,
   "metadata": {},
   "outputs": [
    {
     "name": "stdout",
     "output_type": "stream",
     "text": [
      "---------------------------  ------------  ------------  ------------  ------------  ------------  ------------  ------------  ------------  ------------  ------------  \n",
      "                       Name    Self CPU %      Self CPU   CPU total %     CPU total  CPU time avg     Self CUDA   Self CUDA %    CUDA total  CUDA time avg    # of Calls  \n",
      "---------------------------  ------------  ------------  ------------  ------------  ------------  ------------  ------------  ------------  ------------  ------------  \n",
      "                aten::addmm        88.01%       69.355s        88.02%       69.368s        1.156s       69.364s        88.01%       69.373s        1.156s            60  \n",
      "                  aten::bmm        10.82%        8.525s        10.85%        8.551s      35.628ms        8.418s        10.68%        8.449s      35.204ms           240  \n",
      "             aten::_softmax         0.57%     451.609ms         0.57%     451.609ms       3.763ms     474.431ms         0.60%     474.431ms       3.954ms           120  \n",
      "            model_inference         0.08%      66.482ms       100.00%       78.808s       78.808s     123.719ms         0.16%       78.810s       78.810s             1  \n",
      "                 aten::gelu         0.07%      54.202ms         0.07%      54.202ms       5.420ms      54.691ms         0.07%      54.691ms       5.469ms            10  \n",
      "                  aten::div         0.04%      34.937ms         0.05%      39.008ms     325.067us       7.181ms         0.01%      10.432ms      86.933us           120  \n",
      "           aten::bernoulli_         0.04%      33.653ms         0.04%      33.952ms     848.800us      32.886ms         0.04%      33.099ms     827.475us            40  \n",
      "               aten::matmul         0.04%      30.166ms        10.92%        8.603s      35.844ms       8.720ms         0.01%        8.517s      35.487ms           240  \n",
      "               aten::select         0.03%      24.379ms         0.03%      25.922ms      18.001us      14.096ms         0.02%      21.867ms      15.185us          1440  \n",
      "                   aten::eq         0.03%      23.403ms         0.03%      23.403ms     195.025us      15.161ms         0.02%      15.161ms     126.342us           120  \n",
      "    aten::native_layer_norm         0.03%      19.741ms         0.03%      19.904ms     995.200us      20.238ms         0.03%      22.018ms       1.101ms            20  \n",
      "                  aten::mul         0.02%      18.907ms         0.02%      18.907ms     472.675us      20.077ms         0.03%      20.077ms     501.925us            40  \n",
      "                aten::copy_         0.02%      18.900ms         0.02%      18.900ms      40.213us      13.170ms         0.02%      13.170ms      28.021us           470  \n",
      "                aten::slice         0.02%      16.060ms         0.02%      16.425ms      15.069us       9.944ms         0.01%      14.973ms      13.737us          1090  \n",
      "                  aten::add         0.02%      15.578ms         0.02%      15.578ms     778.900us      14.380ms         0.02%      14.380ms     719.000us            20  \n",
      "                 aten::div_         0.02%      14.686ms         0.02%      16.836ms     420.900us      12.932ms         0.02%      14.585ms     364.625us            40  \n",
      "         aten::masked_fill_         0.02%      14.559ms         0.02%      14.559ms     121.325us      22.458ms         0.03%      22.458ms     187.150us           120  \n",
      "               aten::expand         0.01%       8.811ms         0.01%       9.219ms      17.072us      39.328ms         0.05%      41.926ms      77.641us           540  \n",
      "              aten::reshape         0.01%       8.366ms         0.01%      11.645ms      21.565us      14.584ms         0.02%      18.437ms      34.143us           540  \n",
      "               aten::linear         0.01%       7.896ms        88.04%       69.381s        1.156s       1.875ms         0.00%       69.386s        1.156s            60  \n",
      "             aten::_to_copy         0.01%       7.330ms         0.01%      10.610ms      36.586us       3.488ms         0.00%       6.891ms      23.762us           290  \n",
      "                 aten::sqrt         0.01%       5.134ms         0.01%      11.813ms      98.442us       2.660ms         0.00%      31.238ms     260.317us           120  \n",
      "          aten::masked_fill         0.01%       4.839ms         0.04%      29.848ms     248.733us       5.376ms         0.01%      34.811ms     290.092us           120  \n",
      "                  aten::cat         0.01%       4.655ms         0.01%       5.107ms     510.700us       7.801ms         0.01%       7.970ms     797.000us            10  \n",
      "              aten::dropout         0.01%       4.039ms         0.10%      75.119ms       1.878ms       5.149ms         0.01%      73.615ms       1.840ms            40  \n",
      "                   aten::to         0.00%       3.886ms         0.02%      14.496ms      35.356us      28.547ms         0.04%      35.438ms      86.434us           410  \n",
      "                aten::clone         0.00%       3.547ms         0.01%      10.450ms      87.083us       1.832ms         0.00%       6.977ms      58.142us           120  \n",
      "              aten::softmax         0.00%       3.430ms         0.58%     455.039ms       3.792ms       3.946ms         0.01%     478.377ms       3.986ms           120  \n",
      "            aten::transpose         0.00%       3.355ms         0.00%       3.499ms      19.439us       2.405ms         0.00%       8.536ms      47.422us           180  \n",
      "         aten::_unsafe_view         0.00%       2.849ms         0.00%       2.849ms      11.871us     647.000us         0.00%     647.000us       2.696us           240  \n",
      "           aten::empty_like         0.00%       2.638ms         0.00%       3.652ms      22.825us       1.560ms         0.00%       2.602ms      16.262us           160  \n",
      "           aten::as_strided         0.00%       2.501ms         0.00%       2.501ms       0.765us      21.671ms         0.03%      21.671ms       6.627us          3270  \n",
      "                 aten::view         0.00%       2.490ms         0.00%       2.490ms       8.893us       2.703ms         0.00%       2.703ms       9.654us           280  \n",
      "                aten::empty         0.00%       2.078ms         0.00%       2.078ms       5.328us       2.312ms         0.00%       2.312ms       5.928us           390  \n",
      "       aten::_reshape_alias         0.00%       1.957ms         0.00%       1.957ms       5.436us       2.795ms         0.00%       2.795ms       7.764us           360  \n",
      "                aten::fill_         0.00%       1.886ms         0.00%       1.886ms     188.600us       1.843ms         0.00%       1.843ms     184.300us            10  \n",
      "          aten::bitwise_and         0.00%       1.695ms         0.00%       1.695ms     169.500us       2.811ms         0.00%       2.811ms     281.100us            10  \n",
      "                 aten::tril         0.00%       1.535ms         0.00%       1.535ms     153.500us       1.865ms         0.00%       1.865ms     186.500us            10  \n",
      "              aten::detach_         0.00%       1.325ms         0.00%       1.405ms      11.708us       2.401ms         0.00%      11.790ms      98.250us           120  \n",
      "                    aten::t         0.00%       1.291ms         0.00%       2.430ms      40.500us       4.415ms         0.01%      10.528ms     175.467us            60  \n",
      "        aten::empty_strided         0.00%     904.000us         0.00%     904.000us       3.117us       1.134ms         0.00%       1.134ms       3.910us           290  \n",
      "            aten::unsqueeze         0.00%     422.000us         0.00%     463.000us      23.150us     427.000us         0.00%     569.000us      28.450us            20  \n",
      "           aten::layer_norm         0.00%     357.000us         0.03%      20.261ms       1.013ms     201.000us         0.00%      22.219ms       1.111ms            20  \n",
      "                 aten::ones         0.00%     332.000us         0.00%       2.248ms     224.800us     166.000us         0.00%       2.080ms     208.000us            10  \n",
      "          aten::concatenate         0.00%     240.000us         0.01%       5.347ms     534.700us      91.000us         0.00%       8.061ms     806.100us            10  \n",
      "               aten::narrow         0.00%     233.000us         0.00%     452.000us      45.200us      70.000us         0.00%     169.000us      16.900us            10  \n",
      "              aten::__and__         0.00%     174.000us         0.00%       1.869ms     186.900us     104.000us         0.00%       2.915ms     291.500us            10  \n",
      "                    detach_         0.00%      80.000us         0.00%      80.000us       0.667us       9.389ms         0.01%       9.389ms      78.242us           120  \n",
      "         aten::resolve_conj         0.00%      44.000us         0.00%      44.000us       0.024us       9.723ms         0.01%       9.723ms       5.402us          1800  \n",
      "           aten::lift_fresh         0.00%       0.000us         0.00%       0.000us       0.000us     617.000us         0.00%     617.000us       5.142us           120  \n",
      "---------------------------  ------------  ------------  ------------  ------------  ------------  ------------  ------------  ------------  ------------  ------------  \n",
      "Self CPU time total: 78.808s\n",
      "Self CUDA time total: 78.810s\n",
      "\n"
     ]
    }
   ],
   "source": [
    "prof = time_model(n=10,batch_size=2,layer_only=True, karpathy=False,use_gpu=False,sort_by=\"self_cpu_time_total\")"
   ]
  },
  {
   "cell_type": "code",
   "execution_count": 4,
   "metadata": {},
   "outputs": [
    {
     "name": "stdout",
     "output_type": "stream",
     "text": [
      "---------------------------  ------------  ------------  ------------  ------------  ------------  ------------  ------------  ------------  ------------  ------------  \n",
      "                       Name    Self CPU %      Self CPU   CPU total %     CPU total  CPU time avg     Self CUDA   Self CUDA %    CUDA total  CUDA time avg    # of Calls  \n",
      "---------------------------  ------------  ------------  ------------  ------------  ------------  ------------  ------------  ------------  ------------  ------------  \n",
      "                aten::addmm        88.91%       70.299s        88.92%       70.307s        1.758s       70.264s        88.86%       70.273s        1.757s            40  \n",
      "                  aten::bmm        10.45%        8.260s        10.48%        8.284s     414.205ms        8.249s        10.43%        8.267s     413.326ms            20  \n",
      "             aten::_softmax         0.14%     111.079ms         0.14%     111.079ms      11.108ms     106.715ms         0.13%     106.715ms      10.671ms            10  \n",
      "           aten::bernoulli_         0.10%      82.328ms         0.11%      84.849ms       1.697ms     101.104ms         0.13%     102.127ms       2.043ms            50  \n",
      "                  aten::mul         0.07%      55.734ms         0.07%      55.734ms       1.115ms      49.242ms         0.06%      49.242ms     984.840us            50  \n",
      "                 aten::gelu         0.06%      50.818ms         0.06%      50.818ms       5.082ms      48.102ms         0.06%      48.102ms       4.810ms            10  \n",
      "                 aten::div_         0.05%      38.226ms         0.05%      41.073ms     821.460us      42.865ms         0.05%      57.130ms       1.143ms            50  \n",
      "                aten::copy_         0.05%      35.980ms         0.05%      35.980ms     224.875us      26.919ms         0.03%      26.919ms     168.244us           160  \n",
      "               aten::select         0.03%      22.101ms         0.03%      24.050ms      16.701us       9.144ms         0.01%      13.236ms       9.192us          1440  \n",
      "    aten::native_layer_norm         0.02%      19.440ms         0.02%      19.603ms     980.150us      25.993ms         0.03%      27.014ms       1.351ms            20  \n",
      "            model_inference         0.02%      18.392ms       100.00%       79.068s       79.068s       9.878ms         0.01%       79.072s       79.072s             1  \n",
      "                  aten::add         0.02%      16.429ms         0.02%      16.429ms     821.450us      19.184ms         0.02%      19.184ms     959.200us            20  \n",
      "         aten::masked_fill_         0.02%      12.783ms         0.02%      12.783ms       1.278ms      12.305ms         0.02%      12.305ms       1.230ms            10  \n",
      "              aten::dropout         0.01%       5.692ms         0.24%     188.721ms       3.774ms       6.619ms         0.01%     215.911ms       4.318ms            50  \n",
      "               aten::linear         0.01%       5.293ms        88.93%       70.316s        1.758s       5.736ms         0.01%       70.289s        1.757s            40  \n",
      "                aten::empty         0.01%       4.430ms         0.01%       4.430ms      19.261us      13.504ms         0.02%      13.504ms      58.713us           230  \n",
      "                aten::clone         0.00%       2.912ms         0.04%      32.475ms     541.250us       6.593ms         0.01%      38.777ms     646.283us            60  \n",
      "               aten::matmul         0.00%       2.793ms        10.48%        8.289s     414.425ms       2.214ms         0.00%        8.271s     413.527ms            20  \n",
      "           aten::as_strided         0.00%       2.228ms         0.00%       2.228ms       1.318us       5.279ms         0.01%       5.279ms       3.124us          1690  \n",
      "                   aten::eq         0.00%       2.204ms         0.00%       2.204ms     220.400us     605.000us         0.00%     605.000us      60.500us            10  \n",
      "             aten::_to_copy         0.00%       2.018ms         0.00%       3.255ms      54.250us       3.039ms         0.00%       3.985ms      66.417us            60  \n",
      "            aten::transpose         0.00%       1.722ms         0.00%       1.857ms      20.633us       1.486ms         0.00%       1.899ms      21.100us            90  \n",
      "                 aten::view         0.00%       1.640ms         0.00%       1.640ms       8.200us       1.698ms         0.00%       1.698ms       8.490us           200  \n",
      "               aten::expand         0.00%       1.571ms         0.00%       1.638ms      16.380us       2.809ms         0.00%       3.357ms      33.570us           100  \n",
      "           aten::empty_like         0.00%       1.570ms         0.00%       3.367ms      30.609us       5.126ms         0.01%      13.207ms     120.064us           110  \n",
      "          aten::bitwise_and         0.00%       1.452ms         0.00%       1.452ms     145.200us       1.746ms         0.00%       1.746ms     174.600us            10  \n",
      "                 aten::tril         0.00%       1.209ms         0.00%       1.209ms     120.900us       1.139ms         0.00%       1.139ms     113.900us            10  \n",
      "              aten::reshape         0.00%       1.027ms         0.00%       1.452ms      18.150us       2.613ms         0.00%       3.185ms      39.812us            80  \n",
      "          aten::masked_fill         0.00%       1.025ms         0.04%      29.590ms       2.959ms       4.510ms         0.01%      35.731ms       3.573ms            10  \n",
      "                   aten::to         0.00%     921.000us         0.01%       4.176ms      69.600us      14.586ms         0.02%      18.571ms     309.517us            60  \n",
      "                    aten::t         0.00%     867.000us         0.00%       1.587ms      39.675us       6.101ms         0.01%       7.466ms     186.650us            40  \n",
      "           aten::contiguous         0.00%     669.000us         0.02%      17.609ms     352.180us       1.853ms         0.00%      23.496ms     469.920us            50  \n",
      "              aten::softmax         0.00%     614.000us         0.14%     111.693ms      11.169ms      52.000us         0.00%     106.767ms      10.677ms            10  \n",
      "            aten::unsqueeze         0.00%     613.000us         0.00%     667.000us      22.233us       1.142ms         0.00%       1.261ms      42.033us            30  \n",
      "                aten::fill_         0.00%     522.000us         0.00%     522.000us      52.200us     256.000us         0.00%     256.000us      25.600us            10  \n",
      "                aten::split         0.00%     509.000us         0.00%       1.176ms     117.600us     256.000us         0.00%       9.800ms     980.000us            10  \n",
      "                aten::slice         0.00%     367.000us         0.00%     390.000us      13.000us     207.000us         0.00%     314.000us      10.467us            30  \n",
      "           aten::layer_norm         0.00%     356.000us         0.03%      19.959ms     997.950us     151.000us         0.00%      27.165ms       1.358ms            20  \n",
      "                 aten::ones         0.00%     328.000us         0.00%     875.000us      87.500us       2.315ms         0.00%       6.748ms     674.800us            10  \n",
      "               aten::narrow         0.00%     277.000us         0.00%     667.000us      22.233us       9.230ms         0.01%       9.544ms     318.133us            30  \n",
      "         aten::_unsafe_view         0.00%     273.000us         0.00%     273.000us      13.650us      55.000us         0.00%      55.000us       2.750us            20  \n",
      "              aten::__and__         0.00%     214.000us         0.00%       1.666ms     166.600us      89.000us         0.00%       1.835ms     183.500us            10  \n",
      "        aten::empty_strided         0.00%     189.000us         0.00%     189.000us       3.150us     300.000us         0.00%     300.000us       5.000us            60  \n",
      "         aten::resolve_conj         0.00%      33.000us         0.00%      33.000us       0.021us       6.197ms         0.01%       6.197ms       3.972us          1560  \n",
      "---------------------------  ------------  ------------  ------------  ------------  ------------  ------------  ------------  ------------  ------------  ------------  \n",
      "Self CPU time total: 79.068s\n",
      "Self CUDA time total: 79.072s\n",
      "\n"
     ]
    }
   ],
   "source": [
    "prof = time_model(n=10,batch_size=2,layer_only=True, karpathy=True,use_gpu=False,sort_by=\"self_cpu_time_total\")"
   ]
  },
  {
   "cell_type": "code",
   "execution_count": 5,
   "metadata": {},
   "outputs": [
    {
     "name": "stdout",
     "output_type": "stream",
     "text": [
      "---------------------------  ------------  ------------  ------------  ------------  ------------  ------------  ------------  ------------  ------------  ------------  \n",
      "                       Name    Self CPU %      Self CPU   CPU total %     CPU total  CPU time avg     Self CUDA   Self CUDA %    CUDA total  CUDA time avg    # of Calls  \n",
      "---------------------------  ------------  ------------  ------------  ------------  ------------  ------------  ------------  ------------  ------------  ------------  \n",
      "                aten::addmm         3.58%     113.945ms         3.86%     122.631ms     204.385us        1.100s        34.49%        1.110s       1.851ms           600  \n",
      "         aten::masked_fill_         1.30%      41.467ms         1.30%      41.467ms      34.556us     244.045ms         7.65%     244.045ms     203.371us          1200  \n",
      "                  aten::bmm         2.66%      84.472ms         2.66%      84.472ms      35.197us     209.473ms         6.57%     209.473ms      87.280us          2400  \n",
      "             aten::_softmax         0.88%      27.832ms         0.88%      27.832ms      23.193us     160.720ms         5.04%     160.720ms     133.933us          1200  \n",
      "                aten::slice         5.52%     175.632ms         5.56%     176.866ms      16.376us     160.656ms         5.04%     192.297ms      17.805us         10800  \n",
      "                aten::copy_        36.83%        1.171s        36.83%        1.171s     450.536us     158.401ms         4.97%     158.401ms      60.947us          2599  \n",
      "                  aten::div         1.26%      39.973ms         1.26%      39.973ms      33.311us     141.787ms         4.44%     141.787ms     118.156us          1200  \n",
      "               aten::matmul         6.75%     214.732ms        14.99%     476.469ms     198.529us     116.973ms         3.67%     432.220ms     180.092us          2400  \n",
      "       aten::native_dropout         0.85%      26.868ms         1.36%      43.138ms     107.845us      95.439ms         2.99%     129.998ms     324.995us           400  \n",
      "            model_inference        16.67%     529.863ms       100.00%        3.179s        3.179s      91.597ms         2.87%        3.190s        3.190s             1  \n",
      "                   aten::eq         0.81%      25.652ms         0.81%      25.652ms      21.377us      78.644ms         2.47%      78.644ms      65.537us          1200  \n",
      "                 aten::gelu         0.80%      25.557ms         0.80%      25.557ms     255.570us      74.020ms         2.32%      74.020ms     740.200us           100  \n",
      "                  aten::add         0.29%       9.171ms         0.29%       9.171ms      45.855us      65.345ms         2.05%      65.345ms     326.725us           200  \n",
      "             aten::_to_copy         2.05%      65.154ms        38.33%        1.219s     870.366us      62.181ms         1.95%      78.229ms      55.878us          1400  \n",
      "           aten::as_strided         0.11%       3.492ms         0.11%       3.492ms       0.193us      55.996ms         1.76%      55.996ms       3.091us         18117  \n",
      "              aten::reshape         2.66%      84.601ms         3.16%     100.498ms      18.611us      40.124ms         1.26%      63.874ms      11.829us          5400  \n",
      "            aten::transpose         1.23%      39.251ms         1.25%      39.856ms      22.142us      39.644ms         1.24%      44.208ms      24.560us          1800  \n",
      "    aten::native_layer_norm         0.60%      19.011ms         0.65%      20.649ms     103.245us      39.315ms         1.23%      40.657ms     203.285us           200  \n",
      "               aten::expand         2.82%      89.672ms         2.87%      91.107ms      16.872us      33.682ms         1.06%      53.231ms       9.858us          5400  \n",
      "           aten::empty_like         1.11%      35.195ms         1.32%      42.060ms      21.030us      32.204ms         1.01%      39.880ms      19.940us          2000  \n",
      "          aten::bitwise_and         0.53%      16.971ms         0.53%      16.971ms     169.710us      26.123ms         0.82%      26.123ms     261.230us           100  \n",
      "       aten::_reshape_alias         0.29%       9.316ms         0.29%       9.316ms       2.604us      20.135ms         0.63%      20.135ms       5.627us          3578  \n",
      "                  aten::cat         0.54%      17.306ms         0.54%      17.306ms     173.060us      18.776ms         0.59%      18.776ms     187.760us           100  \n",
      "                   aten::to         0.74%      23.531ms        39.07%        1.242s     460.186us      16.609ms         0.52%      94.838ms      35.138us          2699  \n",
      "              aten::detach_         0.50%      16.039ms         0.51%      16.115ms      13.429us      16.389ms         0.51%      19.344ms      16.120us          1200  \n",
      "                    aten::t         0.35%      11.147ms         0.94%      29.759ms      49.598us      10.661ms         0.33%      35.726ms      59.543us           600  \n",
      "        aten::empty_strided         0.19%       5.904ms         0.19%       5.904ms       2.708us       9.657ms         0.30%       9.657ms       4.430us          2180  \n",
      "                aten::empty         0.23%       7.318ms         0.23%       7.318ms       2.362us       9.232ms         0.29%       9.232ms       2.980us          3098  \n",
      "                 aten::ones         0.12%       3.827ms         0.38%      12.121ms     121.210us       8.782ms         0.28%      11.207ms     112.070us           100  \n",
      "               aten::linear         1.12%      35.541ms         6.32%     200.996ms     334.993us       7.077ms         0.22%        1.159s       1.931ms           600  \n",
      "            aten::unsqueeze         0.13%       4.050ms         0.13%       4.281ms      21.405us       6.211ms         0.19%       6.453ms      32.265us           200  \n",
      "          aten::masked_fill         2.14%      67.906ms         6.13%     195.055ms     162.546us       6.057ms         0.19%     407.036ms     339.197us          1200  \n",
      "                aten::clone         1.25%      39.837ms         2.69%      85.682ms      71.402us       5.644ms         0.18%     156.934ms     130.778us          1200  \n",
      "                 aten::view         0.27%       8.558ms         0.27%       8.558ms       3.056us       4.948ms         0.16%       4.948ms       1.767us          2800  \n",
      "                 aten::sqrt         0.87%      27.699ms         3.49%     110.921ms      92.434us       3.616ms         0.11%      68.617ms      57.181us          1200  \n",
      "           aten::lift_fresh         0.00%       1.000us         0.00%       1.000us       0.001us       3.574ms         0.11%       3.574ms       2.991us          1195  \n",
      "         aten::_unsafe_view         0.18%       5.635ms         0.18%       5.635ms       2.348us       3.282ms         0.10%       3.282ms       1.367us          2400  \n",
      "              aten::softmax         0.59%      18.725ms         1.46%      46.557ms      38.797us       3.229ms         0.10%     163.949ms     136.624us          1200  \n",
      "                    detach_         0.00%      75.000us         0.00%      75.000us       0.063us       2.955ms         0.09%       2.955ms       2.477us          1193  \n",
      "                aten::fill_         0.25%       8.037ms         0.25%       8.037ms      80.370us       2.296ms         0.07%       2.296ms      22.960us           100  \n",
      "              aten::__and__         0.05%       1.723ms         0.59%      18.694ms     186.940us       1.263ms         0.04%      27.386ms     273.860us           100  \n",
      "              aten::dropout         0.20%       6.360ms         1.56%      49.498ms     123.745us       1.106ms         0.03%     131.104ms     327.760us           400  \n",
      "                 aten::tril         0.49%      15.547ms         0.49%      15.547ms     155.470us     923.000us         0.03%     923.000us       9.230us           100  \n",
      "           aten::layer_norm         0.11%       3.420ms         0.76%      24.069ms     120.345us     548.000us         0.02%      41.205ms     206.025us           200  \n",
      "          aten::concatenate         0.07%       2.276ms         0.62%      19.582ms     195.820us     281.000us         0.01%      19.057ms     190.570us           100  \n",
      "           aten::as_strided         0.00%      13.000us         0.00%      13.000us       0.157us       0.000us         0.00%       0.000us       0.000us            83  \n",
      "           aten::lift_fresh         0.00%       0.000us         0.00%       0.000us       0.000us       0.000us         0.00%       0.000us       0.000us             5  \n",
      "        aten::empty_strided         0.00%      43.000us         0.00%      43.000us       2.150us       0.000us         0.00%       0.000us       0.000us            20  \n",
      "       aten::_reshape_alias         0.00%      55.000us         0.00%      55.000us       2.500us       0.000us         0.00%       0.000us       0.000us            22  \n",
      "                    detach_         0.00%       1.000us         0.00%       1.000us       0.143us       0.000us         0.00%       0.000us       0.000us             7  \n",
      "                aten::empty         0.00%       2.000us         0.00%       2.000us       1.000us       0.000us         0.00%       0.000us       0.000us             2  \n",
      "                   aten::to         0.00%       0.000us         0.00%       0.000us       0.000us       0.000us         0.00%       0.000us       0.000us             1  \n",
      "                aten::copy_         0.00%      69.000us         0.00%      69.000us      69.000us       0.000us         0.00%       0.000us       0.000us             1  \n",
      "---------------------------  ------------  ------------  ------------  ------------  ------------  ------------  ------------  ------------  ------------  ------------  \n",
      "Self CPU time total: 3.179s\n",
      "Self CUDA time total: 3.190s\n",
      "\n"
     ]
    }
   ],
   "source": [
    "prof = time_model(n=100,batch_size=16,layer_only=True, karpathy=False,use_gpu=True,sort_by=\"self_cuda_time_total\")"
   ]
  },
  {
   "cell_type": "code",
   "execution_count": 6,
   "metadata": {},
   "outputs": [
    {
     "name": "stdout",
     "output_type": "stream",
     "text": [
      "---------------------------  ------------  ------------  ------------  ------------  ------------  ------------  ------------  ------------  ------------  ------------  \n",
      "                       Name    Self CPU %      Self CPU   CPU total %     CPU total  CPU time avg     Self CUDA   Self CUDA %    CUDA total  CUDA time avg    # of Calls  \n",
      "---------------------------  ------------  ------------  ------------  ------------  ------------  ------------  ------------  ------------  ------------  ------------  \n",
      "                aten::addmm         1.26%      32.281ms         1.49%      38.218ms      95.545us        1.085s        42.05%        1.093s       2.732ms           400  \n",
      "       aten::native_dropout         0.81%      20.866ms         1.48%      38.021ms      76.042us     298.140ms        11.56%     340.784ms     681.568us           500  \n",
      "                aten::copy_        83.42%        2.136s        83.42%        2.136s       2.674ms     271.963ms        10.54%     271.963ms     340.379us           799  \n",
      "                  aten::bmm         0.38%       9.629ms         0.38%       9.629ms      48.145us     188.831ms         7.32%     188.831ms     944.155us           200  \n",
      "         aten::masked_fill_         0.13%       3.418ms         0.19%       4.749ms      47.490us     174.610ms         6.77%     175.016ms       1.750ms           100  \n",
      "             aten::_softmax         0.11%       2.821ms         0.11%       2.821ms      28.210us     154.570ms         5.99%     154.570ms       1.546ms           100  \n",
      "                 aten::gelu         0.09%       2.330ms         0.09%       2.330ms      23.300us      74.909ms         2.90%      74.909ms     749.090us           100  \n",
      "                  aten::add         0.15%       3.885ms         0.15%       3.885ms      19.425us      60.102ms         2.33%      60.102ms     300.510us           200  \n",
      "           aten::empty_like         0.83%      21.327ms         1.05%      26.996ms      16.872us      52.649ms         2.04%      63.100ms      39.438us          1600  \n",
      "    aten::native_layer_norm         0.79%      20.195ms         0.85%      21.691ms     108.455us      41.593ms         1.61%      42.960ms     214.800us           200  \n",
      "            model_inference         4.19%     107.313ms       100.00%        2.561s        2.561s      18.477ms         0.72%        2.580s        2.580s             1  \n",
      "              aten::reshape         0.40%      10.148ms         0.51%      13.029ms      16.286us      18.171ms         0.70%      23.253ms      29.066us           800  \n",
      "          aten::bitwise_and         0.24%       6.227ms         0.24%       6.227ms      62.270us      16.191ms         0.63%      16.191ms     161.910us           100  \n",
      "                    aten::t         0.30%       7.702ms         0.54%      13.767ms      34.417us      14.869ms         0.58%      25.627ms      64.067us           400  \n",
      "                aten::clone         0.57%      14.548ms         1.24%      31.661ms      52.768us      11.405ms         0.44%     291.917ms     486.528us           600  \n",
      "            aten::transpose         0.55%      14.160ms         0.57%      14.587ms      16.208us      10.779ms         0.42%      13.190ms      14.656us           900  \n",
      "                aten::split         0.15%       3.954ms         0.42%      10.872ms     108.720us       8.614ms         0.33%      11.709ms     117.090us           100  \n",
      "               aten::expand         0.62%      15.856ms         0.63%      16.028ms      14.571us       8.359ms         0.32%      11.264ms      10.240us          1100  \n",
      "                aten::empty         0.16%       4.077ms         0.16%       4.077ms       3.146us       7.809ms         0.30%       7.809ms       6.025us          1296  \n",
      "                 aten::ones         0.12%       3.007ms         0.30%       7.726ms      77.260us       7.009ms         0.27%       7.271ms      72.710us           100  \n",
      "                 aten::view         0.23%       6.017ms         0.23%       6.017ms       3.010us       6.744ms         0.26%       6.744ms       3.374us          1999  \n",
      "                   aten::eq         0.10%       2.467ms         0.10%       2.467ms      24.670us       6.166ms         0.24%       6.166ms      61.660us           100  \n",
      "           aten::as_strided         0.04%     920.000us         0.04%     920.000us       0.356us       6.145ms         0.24%       6.145ms       2.378us          2584  \n",
      "               aten::linear         0.95%      24.436ms         3.35%      85.748ms     214.370us       6.080ms         0.24%        1.132s       2.830ms           400  \n",
      "        aten::empty_strided         0.14%       3.685ms         0.14%       3.685ms       3.112us       5.656ms         0.22%       5.656ms       4.777us          1184  \n",
      "            aten::unsqueeze         0.18%       4.638ms         0.19%       4.843ms      16.143us       5.161ms         0.20%       5.558ms      18.527us           300  \n",
      "             aten::_to_copy         0.39%       9.871ms        83.55%        2.140s      10.699ms       4.184ms         0.16%      18.148ms      90.740us           200  \n",
      "               aten::matmul         0.64%      16.463ms         1.45%      37.259ms     186.295us       2.959ms         0.11%     210.173ms       1.051ms           200  \n",
      "                   aten::to         0.12%       3.026ms        83.67%        2.143s       7.143ms       2.863ms         0.11%      21.011ms      70.037us           300  \n",
      "           aten::contiguous         0.22%       5.637ms         1.22%      31.162ms      62.324us       1.884ms         0.07%     139.793ms     279.586us           500  \n",
      "               aten::narrow         0.14%       3.475ms         0.27%       6.918ms      23.060us       1.645ms         0.06%       3.095ms      10.317us           300  \n",
      "              aten::dropout         0.31%       7.825ms         1.79%      45.846ms      91.692us       1.389ms         0.05%     342.173ms     684.346us           500  \n",
      "              aten::__and__         0.07%       1.912ms         0.32%       8.139ms      81.390us       1.353ms         0.05%      17.544ms     175.440us           100  \n",
      "                aten::slice         0.13%       3.322ms         0.13%       3.443ms      11.477us       1.018ms         0.04%       1.450ms       4.833us           300  \n",
      "          aten::masked_fill         0.22%       5.604ms         0.77%      19.657ms     196.570us     809.000us         0.03%     330.684ms       3.307ms           100  \n",
      "                 aten::tril         0.48%      12.284ms         0.48%      12.284ms     122.840us     570.000us         0.02%     570.000us       5.700us           100  \n",
      "           aten::layer_norm         0.12%       3.001ms         0.96%      24.692ms     123.460us     514.000us         0.02%      43.474ms     217.370us           200  \n",
      "              aten::softmax         0.05%       1.180ms         0.16%       4.001ms      40.010us     291.000us         0.01%     154.861ms       1.549ms           100  \n",
      "         aten::_unsafe_view         0.02%     567.000us         0.02%     567.000us       2.835us     281.000us         0.01%     281.000us       1.405us           200  \n",
      "                aten::fill_         0.17%       4.395ms         0.17%       4.395ms      43.950us     128.000us         0.00%     128.000us       1.280us           100  \n",
      "           aten::as_strided         0.00%       5.000us         0.00%       5.000us       0.312us       0.000us         0.00%       0.000us       0.000us            16  \n",
      "        aten::empty_strided         0.00%      29.000us         0.00%      29.000us       1.812us       0.000us         0.00%       0.000us       0.000us            16  \n",
      "                aten::empty         0.00%      11.000us         0.00%      11.000us       2.750us       0.000us         0.00%       0.000us       0.000us             4  \n",
      "                 aten::view         0.00%       1.000us         0.00%       1.000us       1.000us       0.000us         0.00%       0.000us       0.000us             1  \n",
      "                aten::copy_         0.01%     134.000us         0.01%     134.000us     134.000us       0.000us         0.00%       0.000us       0.000us             1  \n",
      "---------------------------  ------------  ------------  ------------  ------------  ------------  ------------  ------------  ------------  ------------  ------------  \n",
      "Self CPU time total: 2.561s\n",
      "Self CUDA time total: 2.580s\n",
      "\n"
     ]
    }
   ],
   "source": [
    "prof = time_model(n=100,batch_size=16,layer_only=True, karpathy=True,use_gpu=True,sort_by=\"self_cuda_time_total\")"
   ]
  },
  {
   "cell_type": "markdown",
   "metadata": {},
   "source": [
    "## Model level comparison"
   ]
  },
  {
   "cell_type": "code",
   "execution_count": 3,
   "metadata": {},
   "outputs": [
    {
     "name": "stdout",
     "output_type": "stream",
     "text": [
      "---------------------------  ------------  ------------  ------------  ------------  ------------  ------------  ------------  ------------  ------------  ------------  \n",
      "                       Name    Self CPU %      Self CPU   CPU total %     CPU total  CPU time avg     Self CUDA   Self CUDA %    CUDA total  CUDA time avg    # of Calls  \n",
      "---------------------------  ------------  ------------  ------------  ------------  ------------  ------------  ------------  ------------  ------------  ------------  \n",
      "                aten::addmm         1.67%     555.065ms         1.97%     654.029ms      90.837us       10.592s        31.86%       10.713s       1.488ms          7200  \n",
      "                  aten::bmm         2.75%     915.058ms         2.75%     915.058ms      31.773us        2.311s         6.95%        2.311s      80.245us         28800  \n",
      "         aten::masked_fill_         0.47%     157.573ms         0.47%     157.573ms      10.943us        2.298s         6.91%        2.298s     159.566us         14400  \n",
      "                aten::copy_        37.88%       12.591s        37.88%       12.591s     404.029us        1.809s         5.44%        1.809s      58.056us         31163  \n",
      "                aten::slice         6.43%        2.138s         6.48%        2.153s      16.611us        1.758s         5.29%        2.121s      16.367us        129600  \n",
      "             aten::_softmax         0.79%     263.006ms         0.79%     263.006ms      18.264us        1.692s         5.09%        1.692s     117.467us         14400  \n",
      "                  aten::div         0.89%     297.110ms         0.89%     297.110ms      20.633us        1.672s         5.03%        1.672s     116.106us         14400  \n",
      "               aten::matmul         7.80%        2.592s        16.93%        5.627s     195.374us        1.345s         4.04%        4.806s     166.869us         28800  \n",
      "       aten::native_dropout         0.67%     221.480ms         1.21%     401.933ms      82.027us        1.140s         3.43%        1.450s     295.905us          4900  \n",
      "            model_inference        18.59%        6.180s       100.00%       33.239s       33.239s        1.017s         3.06%       33.248s       33.248s             1  \n",
      "                   aten::eq         0.74%     245.132ms         0.74%     245.132ms      17.023us     855.249ms         2.57%     855.249ms      59.392us         14400  \n",
      "                 aten::gelu         0.11%      36.228ms         0.11%      36.228ms      30.190us     830.314ms         2.50%     830.314ms     691.928us          1200  \n",
      "                  aten::add         0.17%      56.571ms         0.17%      56.571ms      22.628us     680.359ms         2.05%     680.359ms     272.144us          2500  \n",
      "             aten::_to_copy         1.53%     509.533ms        38.85%       12.914s     768.684us     647.867ms         1.95%     824.795ms      49.095us         16800  \n",
      "           aten::as_strided         0.12%      40.405ms         0.12%      40.405ms       0.186us     607.042ms         1.83%     607.042ms       2.794us        217258  \n",
      "              aten::reshape         3.01%        1.002s         3.59%        1.192s      18.363us     446.275ms         1.34%     727.388ms      11.208us         64900  \n",
      "            aten::transpose         1.10%     364.144ms         1.12%     371.314ms      17.190us     444.506ms         1.34%     499.299ms      23.116us         21600  \n",
      "    aten::native_layer_norm         0.69%     230.348ms         0.75%     248.001ms     103.334us     433.351ms         1.30%     448.831ms     187.013us          2400  \n",
      "               aten::expand         3.23%        1.072s         3.27%        1.088s      16.795us     383.148ms         1.15%     569.683ms       8.791us         64800  \n",
      "           aten::empty_like         1.15%     380.676ms         1.35%     448.721ms      18.542us     317.384ms         0.95%     368.879ms      15.243us         24200  \n",
      "       aten::_reshape_alias         0.32%     107.321ms         0.32%     107.321ms       2.502us     230.780ms         0.69%     230.780ms       5.380us         42899  \n",
      "                   aten::to         0.73%     241.645ms        39.58%       13.156s     407.406us     223.017ms         0.67%        1.048s      32.449us         32291  \n",
      "                  aten::cat         0.14%      48.039ms         0.14%      48.039ms      40.032us     221.318ms         0.67%     221.318ms     184.432us          1200  \n",
      "              aten::detach_         0.56%     187.217ms         0.57%     188.630ms      13.099us     168.553ms         0.51%     204.782ms      14.221us         14400  \n",
      "          aten::bitwise_and         0.18%      61.298ms         0.18%      61.298ms      51.082us     148.181ms         0.45%     148.181ms     123.484us          1200  \n",
      "                    aten::t         0.35%     117.632ms         0.66%     220.534ms      30.630us     100.061ms         0.30%     368.321ms      51.156us          7200  \n",
      "                aten::empty         0.22%      73.997ms         0.22%      73.997ms       1.987us      93.842ms         0.28%      93.842ms       2.520us         37235  \n",
      "               aten::linear         1.20%     399.626ms         4.29%        1.425s     197.905us      88.735ms         0.27%       11.244s       1.562ms          7200  \n",
      "        aten::empty_strided         0.18%      58.867ms         0.18%      58.867ms       2.230us      76.209ms         0.23%      76.209ms       2.888us         26392  \n",
      "          aten::masked_fill         1.44%     480.276ms         4.65%        1.545s     107.326us      70.918ms         0.21%        4.162s     289.012us         14400  \n",
      "                 aten::view         0.32%     106.266ms         0.32%     106.266ms       3.144us      66.226ms         0.20%      66.226ms       1.959us         33800  \n",
      "                 aten::ones         0.11%      36.283ms         0.27%      88.800ms      74.000us      64.665ms         0.19%      67.814ms      56.512us          1200  \n",
      "         aten::index_select         0.10%      33.246ms         0.10%      34.156ms     341.560us      59.546ms         0.18%      65.570ms     655.700us           100  \n",
      "                aten::clone         1.28%     424.593ms         2.73%     907.646ms      63.031us      59.057ms         0.18%        1.793s     124.521us         14400  \n",
      "            aten::unsqueeze         0.13%      41.777ms         0.13%      44.120ms      18.383us      50.428ms         0.15%      53.220ms      22.175us          2400  \n",
      "                 aten::sqrt         0.90%     297.754ms         2.94%     975.694ms      67.757us      49.135ms         0.15%     728.713ms      50.605us         14400  \n",
      "         aten::_unsafe_view         0.21%      69.195ms         0.21%      69.195ms       2.403us      38.551ms         0.12%      38.551ms       1.339us         28800  \n",
      "              aten::softmax         0.69%     229.013ms         1.48%     492.019ms      34.168us      37.763ms         0.11%        1.729s     120.089us         14400  \n",
      "                    detach_         0.00%       1.409ms         0.00%       1.409ms       0.099us      36.229ms         0.11%      36.229ms       2.536us         14286  \n",
      "           aten::lift_fresh         0.00%      32.000us         0.00%      32.000us       0.002us      35.958ms         0.11%      35.958ms       2.501us         14375  \n",
      "              aten::__and__         0.06%      20.410ms         0.25%      81.708ms      68.090us      14.655ms         0.04%     162.836ms     135.697us          1200  \n",
      "              aten::dropout         0.24%      78.635ms         1.45%     480.568ms      98.075us      12.925ms         0.04%        1.463s     298.543us          4900  \n",
      "           aten::layer_norm         0.12%      41.335ms         0.87%     289.336ms     120.557us       6.442ms         0.02%     455.273ms     189.697us          2400  \n",
      "              aten::resize_         0.00%     602.000us         0.00%     602.000us       6.020us       5.889ms         0.02%       5.889ms      58.890us           100  \n",
      "                 aten::tril         0.46%     152.579ms         0.46%     152.579ms     127.361us       4.184ms         0.01%       4.184ms       3.492us          1198  \n",
      "          aten::concatenate         0.08%      25.085ms         0.22%      73.124ms      60.937us       3.767ms         0.01%     225.085ms     187.571us          1200  \n",
      "                aten::fill_         0.15%      49.535ms         0.15%      49.535ms      41.279us       1.623ms         0.00%       1.623ms       1.353us          1200  \n",
      "            aten::embedding         0.01%       4.777ms         0.12%      40.666ms     406.660us     621.000us         0.00%      66.750ms     667.500us           100  \n",
      "           aten::as_strided         0.00%     189.000us         0.00%     189.000us       0.165us       0.000us         0.00%       0.000us       0.000us          1142  \n",
      "       aten::_reshape_alias         0.00%     749.000us         0.00%     749.000us       2.488us       0.000us         0.00%       0.000us       0.000us           301  \n",
      "                    detach_         0.00%       4.000us         0.00%       4.000us       0.035us       0.000us         0.00%       0.000us       0.000us           114  \n",
      "                   aten::to         0.00%       0.000us         0.00%       0.000us       0.000us       0.000us         0.00%       0.000us       0.000us           109  \n",
      "           aten::lift_fresh         0.00%       0.000us         0.00%       0.000us       0.000us       0.000us         0.00%       0.000us       0.000us            25  \n",
      "                aten::empty         0.00%     220.000us         0.00%     220.000us       3.385us       0.000us         0.00%       0.000us       0.000us            65  \n",
      "        aten::empty_strided         0.00%     426.000us         0.00%     426.000us       2.048us       0.000us         0.00%       0.000us       0.000us           208  \n",
      "                aten::copy_         0.01%       2.615ms         0.01%       2.615ms      70.676us       0.000us         0.00%       0.000us       0.000us            37  \n",
      "                 aten::tril         0.00%     251.000us         0.00%     251.000us     125.500us       0.000us         0.00%       0.000us       0.000us             2  \n",
      "---------------------------  ------------  ------------  ------------  ------------  ------------  ------------  ------------  ------------  ------------  ------------  \n",
      "Self CPU time total: 33.239s\n",
      "Self CUDA time total: 33.248s\n",
      "\n"
     ]
    },
    {
     "data": {
      "text/plain": [
       "<torch.profiler.profiler.profile at 0x1e2b4eeea10>"
      ]
     },
     "execution_count": 3,
     "metadata": {},
     "output_type": "execute_result"
    }
   ],
   "source": [
    "time_model(n=100,batch_size=16,layer_only=False,karpathy=False,use_gpu=True,sort_by=\"self_cuda_time_total\")"
   ]
  },
  {
   "cell_type": "code",
   "execution_count": 3,
   "metadata": {},
   "outputs": [
    {
     "name": "stdout",
     "output_type": "stream",
     "text": [
      "---------------------------  ------------  ------------  ------------  ------------  ------------  ------------  ------------  ------------  ------------  ------------  \n",
      "                       Name    Self CPU %      Self CPU   CPU total %     CPU total  CPU time avg     Self CUDA   Self CUDA %    CUDA total  CUDA time avg    # of Calls  \n",
      "---------------------------  ------------  ------------  ------------  ------------  ------------  ------------  ------------  ------------  ------------  ------------  \n",
      "                aten::addmm         2.00%     863.521ms         2.46%        1.061s     220.938us       17.226s        39.94%       17.313s       3.607ms          4800  \n",
      "       aten::native_dropout         1.56%     674.079ms         2.81%        1.210s     198.343us        6.467s        14.99%        6.924s       1.135ms          6100  \n",
      "                aten::copy_        71.44%       30.815s        71.44%       30.815s       3.217ms        4.537s        10.52%        4.537s     473.714us          9578  \n",
      "             aten::_softmax         0.10%      42.082ms         0.10%      42.082ms      35.068us        3.425s         7.94%        3.425s       2.854ms          1200  \n",
      "                  aten::bmm         0.65%     278.521ms         0.65%     278.521ms     116.050us        3.164s         7.33%        3.164s       1.318ms          2400  \n",
      "         aten::masked_fill_         0.14%      60.046ms         0.19%      81.623ms      68.019us        2.641s         6.12%        2.646s       2.205ms          1200  \n",
      "                 aten::gelu         0.14%      60.035ms         0.14%      60.035ms      50.029us        1.181s         2.74%        1.181s     983.992us          1200  \n",
      "                  aten::add         0.43%     184.740ms         0.43%     184.740ms      73.896us        1.066s         2.47%        1.066s     426.411us          2500  \n",
      "    aten::native_layer_norm         2.29%     989.548ms         2.34%        1.007s     419.774us     724.003ms         1.68%     742.179ms     309.241us          2400  \n",
      "           aten::empty_like         1.33%     571.792ms         1.58%     680.779ms      35.092us     496.075ms         1.15%     736.452ms      37.961us         19400  \n",
      "            model_inference         8.06%        3.476s       100.00%       43.133s       43.133s     231.573ms         0.54%       43.135s       43.135s             1  \n",
      "              aten::reshape         0.35%     152.732ms         0.45%     192.342ms      19.829us     169.801ms         0.39%     218.639ms      22.540us          9700  \n",
      "          aten::bitwise_and         0.17%      72.789ms         0.17%      72.789ms      60.657us     163.541ms         0.38%     163.541ms     136.284us          1200  \n",
      "                    aten::t         0.30%     131.226ms         0.77%     330.003ms      68.751us     159.435ms         0.37%     274.362ms      57.159us          4800  \n",
      "        aten::empty_strided         0.16%      68.267ms         0.16%      68.267ms       4.734us     144.690ms         0.34%     144.690ms      10.033us         14422  \n",
      "                aten::empty         0.16%      67.206ms         0.16%      67.206ms       4.298us     136.182ms         0.32%     136.182ms       8.710us         15635  \n",
      "                aten::clone         0.72%     309.188ms         1.36%     587.880ms      81.650us     135.036ms         0.31%        4.809s     667.852us          7200  \n",
      "            aten::transpose         0.86%     370.415ms         0.87%     375.622ms      34.780us     120.272ms         0.28%     150.244ms      13.911us         10800  \n",
      "               aten::expand         0.76%     326.590ms         0.76%     329.116ms      24.933us      94.387ms         0.22%     132.622ms      10.047us         13200  \n",
      "                aten::split         0.14%      61.491ms         0.44%     190.296ms     158.580us      93.057ms         0.22%     137.583ms     114.653us          1200  \n",
      "               aten::linear         2.16%     933.146ms         5.68%        2.449s     510.169us      83.853ms         0.19%       17.742s       3.696ms          4800  \n",
      "           aten::as_strided         0.03%      12.017ms         0.03%      12.017ms       0.388us      79.857ms         0.19%      79.857ms       2.576us         31006  \n",
      "                   aten::eq         0.11%      46.609ms         0.11%      46.609ms      38.841us      73.933ms         0.17%      73.933ms      61.611us          1200  \n",
      "                 aten::view         0.17%      72.991ms         0.17%      72.991ms       3.021us      71.845ms         0.17%      71.845ms       2.973us         24163  \n",
      "                 aten::ones         0.56%     240.076ms         0.72%     309.078ms     257.565us      62.595ms         0.15%      66.678ms      55.565us          1200  \n",
      "         aten::index_select         0.08%      34.235ms         0.08%      35.176ms     351.760us      60.608ms         0.14%      67.753ms     677.530us           100  \n",
      "            aten::unsqueeze         0.70%     301.429ms         0.70%     304.003ms      84.445us      57.142ms         0.13%      62.664ms      17.407us          3600  \n",
      "             aten::_to_copy         0.62%     268.509ms        71.78%       30.959s      12.900ms      56.193ms         0.13%     226.858ms      94.524us          2400  \n",
      "               aten::matmul         0.87%     377.004ms         1.91%     824.674ms     343.614us      39.490ms         0.09%        3.390s       1.412ms          2400  \n",
      "                   aten::to         0.08%      35.603ms        71.86%       30.995s       8.610ms      31.931ms         0.07%     258.789ms      71.886us          3600  \n",
      "           aten::contiguous         0.38%     165.706ms         1.37%     589.991ms      98.332us      23.719ms         0.05%        2.365s     394.192us          6000  \n",
      "               aten::narrow         0.13%      55.095ms         0.30%     128.805ms      35.779us      22.272ms         0.05%      44.526ms      12.368us          3600  \n",
      "              aten::dropout         0.94%     403.881ms         3.74%        1.614s     264.553us      18.754ms         0.04%        6.942s       1.138ms          6100  \n",
      "              aten::__and__         0.05%      23.645ms         0.22%      96.434ms      80.362us      16.709ms         0.04%     180.250ms     150.208us          1200  \n",
      "                aten::slice         0.17%      71.899ms         0.17%      73.710ms      20.475us      16.126ms         0.04%      22.254ms       6.182us          3600  \n",
      "          aten::masked_fill         0.21%      90.012ms         0.84%     364.037ms     303.364us      10.889ms         0.03%        5.137s       4.281ms          1200  \n",
      "                 aten::tril         0.34%     145.331ms         0.34%     145.331ms     121.514us       9.098ms         0.02%       9.098ms       7.607us          1196  \n",
      "           aten::layer_norm         0.41%     175.930ms         2.74%        1.183s     493.078us       7.459ms         0.02%     749.638ms     312.349us          2400  \n",
      "              aten::resize_         0.00%     653.000us         0.00%     653.000us       6.530us       6.814ms         0.02%       6.814ms      68.140us           100  \n",
      "         aten::_unsafe_view         0.02%       7.022ms         0.02%       7.022ms       2.926us       3.656ms         0.01%       3.656ms       1.523us          2400  \n",
      "              aten::softmax         0.05%      23.141ms         0.15%      65.223ms      54.352us       3.441ms         0.01%        3.428s       2.857ms          1200  \n",
      "                aten::fill_         0.15%      65.561ms         0.15%      65.561ms      54.634us       2.376ms         0.01%       2.376ms       1.980us          1200  \n",
      "            aten::embedding         0.01%       4.674ms         0.10%      41.201ms     412.010us       1.262ms         0.00%      69.942ms     699.420us           100  \n",
      "           aten::as_strided         0.00%     101.000us         0.00%     101.000us       0.521us       0.000us         0.00%       0.000us       0.000us           194  \n",
      "                 aten::view         0.00%      60.000us         0.00%      60.000us       1.622us       0.000us         0.00%       0.000us       0.000us            37  \n",
      "                aten::empty         0.00%     177.000us         0.00%     177.000us       2.723us       0.000us         0.00%       0.000us       0.000us            65  \n",
      "        aten::empty_strided         0.00%     324.000us         0.00%     324.000us       1.820us       0.000us         0.00%       0.000us       0.000us           178  \n",
      "                aten::copy_         0.00%       1.519ms         0.00%       1.519ms      69.045us       0.000us         0.00%       0.000us       0.000us            22  \n",
      "                 aten::tril         0.00%     498.000us         0.00%     498.000us     124.500us       0.000us         0.00%       0.000us       0.000us             4  \n",
      "---------------------------  ------------  ------------  ------------  ------------  ------------  ------------  ------------  ------------  ------------  ------------  \n",
      "Self CPU time total: 43.133s\n",
      "Self CUDA time total: 43.135s\n",
      "\n"
     ]
    },
    {
     "data": {
      "text/plain": [
       "<torch.profiler.profiler.profile at 0x213c375f450>"
      ]
     },
     "execution_count": 3,
     "metadata": {},
     "output_type": "execute_result"
    }
   ],
   "source": [
    "time_model(n=100,batch_size=16,layer_only=False,karpathy=True,use_gpu=True,sort_by=\"self_cuda_time_total\")"
   ]
  },
  {
   "cell_type": "code",
   "execution_count": 18,
   "metadata": {},
   "outputs": [
    {
     "data": {
      "text/plain": [
       "(torch.Size([1, 512, 768]),\n",
       " tensor([[[ 0.2047, -1.3193, -0.5762,  ..., -0.1744,  0.4873,  0.0000],\n",
       "          [ 1.1416,  0.0507,  0.2316,  ...,  1.5371,  0.0154,  0.0261],\n",
       "          [-0.2751,  1.0518,  1.3643,  ...,  1.3975,  0.0000,  0.1373],\n",
       "          ...,\n",
       "          [-0.4155, -1.4805,  1.3574,  ..., -0.3396, -0.0000, -0.0154],\n",
       "          [-1.3486,  0.2261, -0.1428,  ..., -0.0000,  1.4424, -0.0000],\n",
       "          [-0.0988, -0.1489,  0.0611,  ...,  0.6558,  1.0010, -1.2832]]],\n",
       "        device='cuda:0', dtype=torch.float16, grad_fn=<NativeDropoutBackward0>))"
      ]
     },
     "execution_count": 18,
     "metadata": {},
     "output_type": "execute_result"
    }
   ],
   "source": [
    "gpu_device = torch.device(\"cuda\")\n",
    "\n",
    "model = DecoderLayerKarpathy()\n",
    "model.set_nest_level()\n",
    "model.to(gpu_device)\n",
    "\n",
    "inputs = torch.rand(1, 512, 768,dtype=torch.half).to(gpu_device)\n",
    "mask = torch.ones((1,512),dtype=torch.bool).to(gpu_device)\n",
    "\n",
    "outputs = model(inputs,mask)\n",
    "outputs.size(), outputs"
   ]
  },
  {
   "cell_type": "code",
   "execution_count": 19,
   "metadata": {},
   "outputs": [
    {
     "data": {
      "text/plain": [
       "(torch.Size([1, 512, 768]),\n",
       " tensor([[[-1.2393,  0.5342, -1.2715,  ..., -0.1897, -0.4978,  0.0000],\n",
       "          [-0.0000, -0.0000, -0.0129,  ..., -0.0146,  0.0913,  0.1405],\n",
       "          [-0.5132, -1.6133,  0.4812,  ...,  0.2190,  0.4424, -1.9727],\n",
       "          ...,\n",
       "          [-0.3931, -0.5239, -0.6118,  ...,  0.0322, -1.4443, -0.2976],\n",
       "          [ 0.0122,  0.6753, -0.0770,  ...,  0.4658,  1.6504, -0.4805],\n",
       "          [ 0.9688,  0.0000, -0.3105,  ...,  0.1453,  0.1688,  0.9263]]],\n",
       "        device='cuda:0', dtype=torch.float16, grad_fn=<NativeDropoutBackward0>))"
      ]
     },
     "execution_count": 19,
     "metadata": {},
     "output_type": "execute_result"
    }
   ],
   "source": [
    "gpu_device = torch.device(\"cuda\")\n",
    "\n",
    "model = GPT1CoreKarpathy(30000)\n",
    "model.to(gpu_device)\n",
    "\n",
    "inputs = torch.randint(low=0, high=30000, size=(1, 512)).to(gpu_device)\n",
    "mask = torch.ones((1,512),dtype=torch.bool).to(gpu_device)\n",
    "\n",
    "outputs = model(inputs,mask)\n",
    "outputs.size(), outputs"
   ]
  },
  {
   "cell_type": "code",
   "execution_count": 22,
   "metadata": {},
   "outputs": [
    {
     "data": {
      "text/plain": [
       "(torch.Size([1, 30000, 512]),\n",
       " tensor([[[-17.2500,  -7.3594, -11.6797,  ...,  29.9375,  -7.8477, -48.0312],\n",
       "          [ 29.1719,  44.8438,  47.4062,  ...,  17.5000, -13.0547, -25.0156],\n",
       "          [-22.0781, -35.4688, -25.7656,  ..., -33.4688,  18.9531,  13.4453],\n",
       "          ...,\n",
       "          [ 12.3281,  14.7891,  12.2969,  ...,  36.3438, -15.1797,  -5.1719],\n",
       "          [ -3.0137,  35.7188, -28.9375,  ...,   4.0078,  -5.6328,  -7.3906],\n",
       "          [ 44.0000, -49.5312, -15.0391,  ...,  24.2188, -24.1562, -22.8750]]],\n",
       "        device='cuda:0', dtype=torch.float16, grad_fn=<TransposeBackward0>))"
      ]
     },
     "execution_count": 22,
     "metadata": {},
     "output_type": "execute_result"
    }
   ],
   "source": [
    "gpu_device = torch.device(\"cuda\")\n",
    "\n",
    "model = GPT1Pretrain(30000)\n",
    "model.to(gpu_device)\n",
    "\n",
    "inputs = torch.randint(low=0, high=30000, size=(1, 512)).to(gpu_device)\n",
    "mask = torch.ones((1,512),dtype=torch.bool).to(gpu_device)\n",
    "\n",
    "outputs = model(inputs,mask)\n",
    "outputs.size(), outputs"
   ]
  },
  {
   "cell_type": "code",
   "execution_count": null,
   "metadata": {},
   "outputs": [],
   "source": []
  }
 ],
 "metadata": {
  "kernelspec": {
   "display_name": ".venv",
   "language": "python",
   "name": "python3"
  },
  "language_info": {
   "codemirror_mode": {
    "name": "ipython",
    "version": 3
   },
   "file_extension": ".py",
   "mimetype": "text/x-python",
   "name": "python",
   "nbconvert_exporter": "python",
   "pygments_lexer": "ipython3",
   "version": "3.11.0"
  }
 },
 "nbformat": 4,
 "nbformat_minor": 2
}
